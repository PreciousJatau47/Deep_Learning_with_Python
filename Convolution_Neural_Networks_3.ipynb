{
 "cells": [
  {
   "cell_type": "markdown",
   "metadata": {},
   "source": [
    "# Convolutional Neural Networks\n",
    "code adopted from https://pythonprogramming.net/convolutional-neural-network-deep-learning-python-tensorflow-keras/  \n",
    "modified by Precious Jatau"
   ]
  },
  {
   "cell_type": "code",
   "execution_count": 29,
   "metadata": {},
   "outputs": [
    {
     "name": "stdout",
     "output_type": "stream",
     "text": [
      "(50, 50, 1)\n"
     ]
    }
   ],
   "source": [
    "import numpy as np\n",
    "import tensorflow as tf\n",
    "from tensorflow.keras.models import Sequential\n",
    "from tensorflow.keras.layers import Dense, Dropout, Activation, Flatten, Conv2D, MaxPooling2D\n",
    "import pickle\n",
    "\n",
    "X = pickle.load(open(\"X.pickle\",\"rb\"))\n",
    "Y = pickle.load(open(\"Y.pickle\",\"rb\"))\n",
    "\n",
    "# normalize X using min-max scaling\n",
    "X = X/255.0\n",
    "print(X.shape[1:])"
   ]
  },
  {
   "cell_type": "markdown",
   "metadata": {},
   "source": [
    "Build CNN\n",
    "Conv => Pool => Conv => Pool => FC => output"
   ]
  },
  {
   "cell_type": "code",
   "execution_count": 10,
   "metadata": {},
   "outputs": [
    {
     "name": "stdout",
     "output_type": "stream",
     "text": [
      "Train on 22451 samples, validate on 2495 samples\n",
      "Epoch 1/4\n",
      "22451/22451 [==============================] - 111s 5ms/sample - loss: 0.6148 - accuracy: 0.6561 - val_loss: 0.5321 - val_accuracy: 0.7351\n",
      "Epoch 2/4\n",
      "22451/22451 [==============================] - 107s 5ms/sample - loss: 0.5236 - accuracy: 0.7482 - val_loss: 0.4976 - val_accuracy: 0.7691\n",
      "Epoch 3/4\n",
      "22451/22451 [==============================] - 106s 5ms/sample - loss: 0.4812 - accuracy: 0.7750 - val_loss: 0.4677 - val_accuracy: 0.7796\n",
      "Epoch 4/4\n",
      "22451/22451 [==============================] - 115s 5ms/sample - loss: 0.4467 - accuracy: 0.7927 - val_loss: 0.4429 - val_accuracy: 0.8012\n"
     ]
    },
    {
     "data": {
      "text/plain": [
       "<tensorflow.python.keras.callbacks.History at 0x20893c8bc18>"
      ]
     },
     "execution_count": 10,
     "metadata": {},
     "output_type": "execute_result"
    }
   ],
   "source": [
    "model = Sequential()\n",
    "\n",
    "# convolution layer with 64, 3x3 filters\n",
    "model.add(Conv2D(64, (3,3), input_shape = X.shape[1:]))\n",
    "model.add(Activation(\"relu\"))\n",
    "# max pooling layer with a 2x2 filter\n",
    "model.add(MaxPooling2D(pool_size = (2,2)))\n",
    "\n",
    "# convolutional layer with 64, 3x3 filters\n",
    "model.add(Conv2D(64, (3,3)))\n",
    "model.add(Activation(\"relu\"))\n",
    "model.add(MaxPooling2D(pool_size = (2,2)))\n",
    "\n",
    "# fully connected layer\n",
    "model.add(Flatten())\n",
    "model.add(Dense(64))\n",
    "\n",
    "# output layer\n",
    "model.add(Dense(1))\n",
    "model.add(Activation(\"sigmoid\"))\n",
    "\n",
    "# compile model\n",
    "model.compile(loss = \"binary_crossentropy\",\n",
    "             optimizer = \"adam\",\n",
    "             metrics = ['accuracy'])\n",
    "\n",
    "model.fit(X, Y, batch_size = 32, epochs = 4, validation_split = 0.1)"
   ]
  },
  {
   "cell_type": "markdown",
   "metadata": {},
   "source": [
    "Visualize first example"
   ]
  },
  {
   "cell_type": "code",
   "execution_count": 56,
   "metadata": {},
   "outputs": [
    {
     "data": {
      "image/png": "[encoded data removed]",
      "text/plain": [
       "<Figure size 432x288 with 1 Axes>"
      ]
     },
     "metadata": {
      "needs_background": "light"
     },
     "output_type": "display_data"
    }
   ],
   "source": [
    "import matplotlib.pyplot as plt\n",
    "ex = 1\n",
    "IMG_SIZE = X[ex].shape[1]\n",
    "plt.imshow(X[ex].reshape(IMG_SIZE,IMG_SIZE), cmap = 'gray')\n",
    "plt.show()"
   ]
  },
  {
   "cell_type": "code",
   "execution_count": null,
   "metadata": {},
   "outputs": [],
   "source": [
    "Predict first example"
   ]
  },
  {
   "cell_type": "code",
   "execution_count": 33,
   "metadata": {},
   "outputs": [],
   "source": [
    "predictions = model.predict(X)"
   ]
  },
  {
   "cell_type": "code",
   "execution_count": 57,
   "metadata": {},
   "outputs": [
    {
     "name": "stdout",
     "output_type": "stream",
     "text": [
      "[0.88886476]\n",
      "[ True]\n"
     ]
    }
   ],
   "source": [
    "print(predictions[ex])\n",
    "print(predictions[ex] > 0.5) # True for cat, false for dog"
   ]
  },
  {
   "cell_type": "code",
   "execution_count": null,
   "metadata": {},
   "outputs": [],
   "source": []
  }
 ],
 "metadata": {
  "kernelspec": {
   "display_name": "Python 3",
   "language": "python",
   "name": "python3"
  },
  "language_info": {
   "codemirror_mode": {
    "name": "ipython",
    "version": 3
   },
   "file_extension": ".py",
   "mimetype": "text/x-python",
   "name": "python",
   "nbconvert_exporter": "python",
   "pygments_lexer": "ipython3",
   "version": "3.7.3"
  }
 },
 "nbformat": 4,
 "nbformat_minor": 2
}
